{
 "cells": [
  {
   "cell_type": "code",
   "execution_count": 5,
   "id": "a214cfd9",
   "metadata": {},
   "outputs": [],
   "source": [
    "#import neceassary packages\n",
    "import pandas as pd\n",
    "import matplotlib.pyplot as plt\n",
    "import seaborn as sns\n",
    "import os\n"
   ]
  },
  {
   "cell_type": "code",
   "execution_count": 6,
   "id": "b0adbeb7",
   "metadata": {},
   "outputs": [],
   "source": [
    "# load energy and weather datasets into pandas dataframes\n",
    "energy_data = pd.read_csv('../raw_data/energy_dataset.csv')\n",
    "weather_data = pd.read_csv('../raw_data/weather_features.csv')"
   ]
  },
  {
   "cell_type": "code",
   "execution_count": 7,
   "id": "148279a7",
   "metadata": {},
   "outputs": [
    {
     "data": {
      "text/plain": [
       "<bound method DataFrame.info of                             time  generation biomass  \\\n",
       "0      2015-01-01 00:00:00+01:00               447.0   \n",
       "1      2015-01-01 01:00:00+01:00               449.0   \n",
       "2      2015-01-01 02:00:00+01:00               448.0   \n",
       "3      2015-01-01 03:00:00+01:00               438.0   \n",
       "4      2015-01-01 04:00:00+01:00               428.0   \n",
       "...                          ...                 ...   \n",
       "35059  2018-12-31 19:00:00+01:00               297.0   \n",
       "35060  2018-12-31 20:00:00+01:00               296.0   \n",
       "35061  2018-12-31 21:00:00+01:00               292.0   \n",
       "35062  2018-12-31 22:00:00+01:00               293.0   \n",
       "35063  2018-12-31 23:00:00+01:00               290.0   \n",
       "\n",
       "       generation fossil brown coal/lignite  \\\n",
       "0                                     329.0   \n",
       "1                                     328.0   \n",
       "2                                     323.0   \n",
       "3                                     254.0   \n",
       "4                                     187.0   \n",
       "...                                     ...   \n",
       "35059                                   0.0   \n",
       "35060                                   0.0   \n",
       "35061                                   0.0   \n",
       "35062                                   0.0   \n",
       "35063                                   0.0   \n",
       "\n",
       "       generation fossil coal-derived gas  generation fossil gas  \\\n",
       "0                                     0.0                 4844.0   \n",
       "1                                     0.0                 5196.0   \n",
       "2                                     0.0                 4857.0   \n",
       "3                                     0.0                 4314.0   \n",
       "4                                     0.0                 4130.0   \n",
       "...                                   ...                    ...   \n",
       "35059                                 0.0                 7634.0   \n",
       "35060                                 0.0                 7241.0   \n",
       "35061                                 0.0                 7025.0   \n",
       "35062                                 0.0                 6562.0   \n",
       "35063                                 0.0                 6926.0   \n",
       "\n",
       "       generation fossil hard coal  generation fossil oil  \\\n",
       "0                           4821.0                  162.0   \n",
       "1                           4755.0                  158.0   \n",
       "2                           4581.0                  157.0   \n",
       "3                           4131.0                  160.0   \n",
       "4                           3840.0                  156.0   \n",
       "...                            ...                    ...   \n",
       "35059                       2628.0                  178.0   \n",
       "35060                       2566.0                  174.0   \n",
       "35061                       2422.0                  168.0   \n",
       "35062                       2293.0                  163.0   \n",
       "35063                       2166.0                  163.0   \n",
       "\n",
       "       generation fossil oil shale  generation fossil peat  \\\n",
       "0                              0.0                     0.0   \n",
       "1                              0.0                     0.0   \n",
       "2                              0.0                     0.0   \n",
       "3                              0.0                     0.0   \n",
       "4                              0.0                     0.0   \n",
       "...                            ...                     ...   \n",
       "35059                          0.0                     0.0   \n",
       "35060                          0.0                     0.0   \n",
       "35061                          0.0                     0.0   \n",
       "35062                          0.0                     0.0   \n",
       "35063                          0.0                     0.0   \n",
       "\n",
       "       generation geothermal  ...  generation waste  generation wind offshore  \\\n",
       "0                        0.0  ...             196.0                       0.0   \n",
       "1                        0.0  ...             195.0                       0.0   \n",
       "2                        0.0  ...             196.0                       0.0   \n",
       "3                        0.0  ...             191.0                       0.0   \n",
       "4                        0.0  ...             189.0                       0.0   \n",
       "...                      ...  ...               ...                       ...   \n",
       "35059                    0.0  ...             277.0                       0.0   \n",
       "35060                    0.0  ...             280.0                       0.0   \n",
       "35061                    0.0  ...             286.0                       0.0   \n",
       "35062                    0.0  ...             287.0                       0.0   \n",
       "35063                    0.0  ...             287.0                       0.0   \n",
       "\n",
       "       generation wind onshore  forecast solar day ahead  \\\n",
       "0                       6378.0                      17.0   \n",
       "1                       5890.0                      16.0   \n",
       "2                       5461.0                       8.0   \n",
       "3                       5238.0                       2.0   \n",
       "4                       4935.0                       9.0   \n",
       "...                        ...                       ...   \n",
       "35059                   3113.0                      96.0   \n",
       "35060                   3288.0                      51.0   \n",
       "35061                   3503.0                      36.0   \n",
       "35062                   3586.0                      29.0   \n",
       "35063                   3651.0                      26.0   \n",
       "\n",
       "       forecast wind offshore eday ahead  forecast wind onshore day ahead  \\\n",
       "0                                    NaN                           6436.0   \n",
       "1                                    NaN                           5856.0   \n",
       "2                                    NaN                           5454.0   \n",
       "3                                    NaN                           5151.0   \n",
       "4                                    NaN                           4861.0   \n",
       "...                                  ...                              ...   \n",
       "35059                                NaN                           3253.0   \n",
       "35060                                NaN                           3353.0   \n",
       "35061                                NaN                           3404.0   \n",
       "35062                                NaN                           3273.0   \n",
       "35063                                NaN                           3117.0   \n",
       "\n",
       "       total load forecast  total load actual  price day ahead  price actual  \n",
       "0                  26118.0            25385.0            50.10         65.41  \n",
       "1                  24934.0            24382.0            48.10         64.92  \n",
       "2                  23515.0            22734.0            47.33         64.48  \n",
       "3                  22642.0            21286.0            42.27         59.32  \n",
       "4                  21785.0            20264.0            38.41         56.04  \n",
       "...                    ...                ...              ...           ...  \n",
       "35059              30619.0            30653.0            68.85         77.02  \n",
       "35060              29932.0            29735.0            68.40         76.16  \n",
       "35061              27903.0            28071.0            66.88         74.30  \n",
       "35062              25450.0            25801.0            63.93         69.89  \n",
       "35063              24424.0            24455.0            64.27         69.88  \n",
       "\n",
       "[35064 rows x 29 columns]>"
      ]
     },
     "execution_count": 7,
     "metadata": {},
     "output_type": "execute_result"
    }
   ],
   "source": [
    "energy_data.info"
   ]
  },
  {
   "cell_type": "code",
   "execution_count": 22,
   "id": "fcc1cbf9",
   "metadata": {},
   "outputs": [
    {
     "data": {
      "text/plain": [
       "0.0"
      ]
     },
     "execution_count": 22,
     "metadata": {},
     "output_type": "execute_result"
    }
   ],
   "source": [
    "#it looks like we have several columns that are completely null. Let's confirm and then delete them:\n",
    "energy_data['generation fossil coal-derived gas'].sum()"
   ]
  },
  {
   "cell_type": "code",
   "execution_count": 23,
   "id": "54d55b96",
   "metadata": {},
   "outputs": [
    {
     "data": {
      "text/plain": [
       "0.0"
      ]
     },
     "execution_count": 23,
     "metadata": {},
     "output_type": "execute_result"
    }
   ],
   "source": [
    "energy_data['generation fossil oil shale'].sum()"
   ]
  },
  {
   "cell_type": "code",
   "execution_count": 24,
   "id": "365e2ef6",
   "metadata": {},
   "outputs": [
    {
     "data": {
      "text/plain": [
       "0.0"
      ]
     },
     "execution_count": 24,
     "metadata": {},
     "output_type": "execute_result"
    }
   ],
   "source": [
    "energy_data['generation fossil peat'].sum()"
   ]
  },
  {
   "cell_type": "code",
   "execution_count": 29,
   "id": "8fe4f415",
   "metadata": {},
   "outputs": [
    {
     "data": {
      "text/plain": [
       "0"
      ]
     },
     "execution_count": 29,
     "metadata": {},
     "output_type": "execute_result"
    }
   ],
   "source": [
    "energy_data['generation hydro pumped storage aggregated'].count()"
   ]
  },
  {
   "cell_type": "code",
   "execution_count": 25,
   "id": "dc00cb0d",
   "metadata": {},
   "outputs": [
    {
     "data": {
      "text/plain": [
       "0.0"
      ]
     },
     "execution_count": 25,
     "metadata": {},
     "output_type": "execute_result"
    }
   ],
   "source": [
    "energy_data['generation geothermal'].sum()"
   ]
  },
  {
   "cell_type": "code",
   "execution_count": 31,
   "id": "4f8cec29",
   "metadata": {},
   "outputs": [
    {
     "data": {
      "text/plain": [
       "0.0"
      ]
     },
     "execution_count": 31,
     "metadata": {},
     "output_type": "execute_result"
    }
   ],
   "source": [
    "energy_data['generation marine'].sum()"
   ]
  },
  {
   "cell_type": "code",
   "execution_count": 26,
   "id": "0e951d4a",
   "metadata": {},
   "outputs": [
    {
     "data": {
      "text/plain": [
       "0.0"
      ]
     },
     "execution_count": 26,
     "metadata": {},
     "output_type": "execute_result"
    }
   ],
   "source": [
    "energy_data['generation wind offshore'].sum()"
   ]
  },
  {
   "cell_type": "code",
   "execution_count": 27,
   "id": "5be70e64",
   "metadata": {},
   "outputs": [
    {
     "data": {
      "text/plain": [
       "0"
      ]
     },
     "execution_count": 27,
     "metadata": {},
     "output_type": "execute_result"
    }
   ],
   "source": [
    "energy_data['forecast wind offshore eday ahead'].count()"
   ]
  },
  {
   "cell_type": "code",
   "execution_count": 32,
   "id": "6acb085f",
   "metadata": {},
   "outputs": [
    {
     "data": {
      "text/html": [
       "<div>\n",
       "<style scoped>\n",
       "    .dataframe tbody tr th:only-of-type {\n",
       "        vertical-align: middle;\n",
       "    }\n",
       "\n",
       "    .dataframe tbody tr th {\n",
       "        vertical-align: top;\n",
       "    }\n",
       "\n",
       "    .dataframe thead th {\n",
       "        text-align: right;\n",
       "    }\n",
       "</style>\n",
       "<table border=\"1\" class=\"dataframe\">\n",
       "  <thead>\n",
       "    <tr style=\"text-align: right;\">\n",
       "      <th></th>\n",
       "      <th>time</th>\n",
       "      <th>generation biomass</th>\n",
       "      <th>generation fossil brown coal/lignite</th>\n",
       "      <th>generation fossil gas</th>\n",
       "      <th>generation fossil hard coal</th>\n",
       "      <th>generation fossil oil</th>\n",
       "      <th>generation hydro pumped storage consumption</th>\n",
       "      <th>generation hydro run-of-river and poundage</th>\n",
       "      <th>generation hydro water reservoir</th>\n",
       "      <th>generation nuclear</th>\n",
       "      <th>...</th>\n",
       "      <th>generation other renewable</th>\n",
       "      <th>generation solar</th>\n",
       "      <th>generation waste</th>\n",
       "      <th>generation wind onshore</th>\n",
       "      <th>forecast solar day ahead</th>\n",
       "      <th>forecast wind onshore day ahead</th>\n",
       "      <th>total load forecast</th>\n",
       "      <th>total load actual</th>\n",
       "      <th>price day ahead</th>\n",
       "      <th>price actual</th>\n",
       "    </tr>\n",
       "  </thead>\n",
       "  <tbody>\n",
       "    <tr>\n",
       "      <th>0</th>\n",
       "      <td>2015-01-01 00:00:00+01:00</td>\n",
       "      <td>447.0</td>\n",
       "      <td>329.0</td>\n",
       "      <td>4844.0</td>\n",
       "      <td>4821.0</td>\n",
       "      <td>162.0</td>\n",
       "      <td>863.0</td>\n",
       "      <td>1051.0</td>\n",
       "      <td>1899.0</td>\n",
       "      <td>7096.0</td>\n",
       "      <td>...</td>\n",
       "      <td>73.0</td>\n",
       "      <td>49.0</td>\n",
       "      <td>196.0</td>\n",
       "      <td>6378.0</td>\n",
       "      <td>17.0</td>\n",
       "      <td>6436.0</td>\n",
       "      <td>26118.0</td>\n",
       "      <td>25385.0</td>\n",
       "      <td>50.10</td>\n",
       "      <td>65.41</td>\n",
       "    </tr>\n",
       "    <tr>\n",
       "      <th>1</th>\n",
       "      <td>2015-01-01 01:00:00+01:00</td>\n",
       "      <td>449.0</td>\n",
       "      <td>328.0</td>\n",
       "      <td>5196.0</td>\n",
       "      <td>4755.0</td>\n",
       "      <td>158.0</td>\n",
       "      <td>920.0</td>\n",
       "      <td>1009.0</td>\n",
       "      <td>1658.0</td>\n",
       "      <td>7096.0</td>\n",
       "      <td>...</td>\n",
       "      <td>71.0</td>\n",
       "      <td>50.0</td>\n",
       "      <td>195.0</td>\n",
       "      <td>5890.0</td>\n",
       "      <td>16.0</td>\n",
       "      <td>5856.0</td>\n",
       "      <td>24934.0</td>\n",
       "      <td>24382.0</td>\n",
       "      <td>48.10</td>\n",
       "      <td>64.92</td>\n",
       "    </tr>\n",
       "    <tr>\n",
       "      <th>2</th>\n",
       "      <td>2015-01-01 02:00:00+01:00</td>\n",
       "      <td>448.0</td>\n",
       "      <td>323.0</td>\n",
       "      <td>4857.0</td>\n",
       "      <td>4581.0</td>\n",
       "      <td>157.0</td>\n",
       "      <td>1164.0</td>\n",
       "      <td>973.0</td>\n",
       "      <td>1371.0</td>\n",
       "      <td>7099.0</td>\n",
       "      <td>...</td>\n",
       "      <td>73.0</td>\n",
       "      <td>50.0</td>\n",
       "      <td>196.0</td>\n",
       "      <td>5461.0</td>\n",
       "      <td>8.0</td>\n",
       "      <td>5454.0</td>\n",
       "      <td>23515.0</td>\n",
       "      <td>22734.0</td>\n",
       "      <td>47.33</td>\n",
       "      <td>64.48</td>\n",
       "    </tr>\n",
       "    <tr>\n",
       "      <th>3</th>\n",
       "      <td>2015-01-01 03:00:00+01:00</td>\n",
       "      <td>438.0</td>\n",
       "      <td>254.0</td>\n",
       "      <td>4314.0</td>\n",
       "      <td>4131.0</td>\n",
       "      <td>160.0</td>\n",
       "      <td>1503.0</td>\n",
       "      <td>949.0</td>\n",
       "      <td>779.0</td>\n",
       "      <td>7098.0</td>\n",
       "      <td>...</td>\n",
       "      <td>75.0</td>\n",
       "      <td>50.0</td>\n",
       "      <td>191.0</td>\n",
       "      <td>5238.0</td>\n",
       "      <td>2.0</td>\n",
       "      <td>5151.0</td>\n",
       "      <td>22642.0</td>\n",
       "      <td>21286.0</td>\n",
       "      <td>42.27</td>\n",
       "      <td>59.32</td>\n",
       "    </tr>\n",
       "    <tr>\n",
       "      <th>4</th>\n",
       "      <td>2015-01-01 04:00:00+01:00</td>\n",
       "      <td>428.0</td>\n",
       "      <td>187.0</td>\n",
       "      <td>4130.0</td>\n",
       "      <td>3840.0</td>\n",
       "      <td>156.0</td>\n",
       "      <td>1826.0</td>\n",
       "      <td>953.0</td>\n",
       "      <td>720.0</td>\n",
       "      <td>7097.0</td>\n",
       "      <td>...</td>\n",
       "      <td>74.0</td>\n",
       "      <td>42.0</td>\n",
       "      <td>189.0</td>\n",
       "      <td>4935.0</td>\n",
       "      <td>9.0</td>\n",
       "      <td>4861.0</td>\n",
       "      <td>21785.0</td>\n",
       "      <td>20264.0</td>\n",
       "      <td>38.41</td>\n",
       "      <td>56.04</td>\n",
       "    </tr>\n",
       "    <tr>\n",
       "      <th>...</th>\n",
       "      <td>...</td>\n",
       "      <td>...</td>\n",
       "      <td>...</td>\n",
       "      <td>...</td>\n",
       "      <td>...</td>\n",
       "      <td>...</td>\n",
       "      <td>...</td>\n",
       "      <td>...</td>\n",
       "      <td>...</td>\n",
       "      <td>...</td>\n",
       "      <td>...</td>\n",
       "      <td>...</td>\n",
       "      <td>...</td>\n",
       "      <td>...</td>\n",
       "      <td>...</td>\n",
       "      <td>...</td>\n",
       "      <td>...</td>\n",
       "      <td>...</td>\n",
       "      <td>...</td>\n",
       "      <td>...</td>\n",
       "      <td>...</td>\n",
       "    </tr>\n",
       "    <tr>\n",
       "      <th>35059</th>\n",
       "      <td>2018-12-31 19:00:00+01:00</td>\n",
       "      <td>297.0</td>\n",
       "      <td>0.0</td>\n",
       "      <td>7634.0</td>\n",
       "      <td>2628.0</td>\n",
       "      <td>178.0</td>\n",
       "      <td>1.0</td>\n",
       "      <td>1135.0</td>\n",
       "      <td>4836.0</td>\n",
       "      <td>6073.0</td>\n",
       "      <td>...</td>\n",
       "      <td>95.0</td>\n",
       "      <td>85.0</td>\n",
       "      <td>277.0</td>\n",
       "      <td>3113.0</td>\n",
       "      <td>96.0</td>\n",
       "      <td>3253.0</td>\n",
       "      <td>30619.0</td>\n",
       "      <td>30653.0</td>\n",
       "      <td>68.85</td>\n",
       "      <td>77.02</td>\n",
       "    </tr>\n",
       "    <tr>\n",
       "      <th>35060</th>\n",
       "      <td>2018-12-31 20:00:00+01:00</td>\n",
       "      <td>296.0</td>\n",
       "      <td>0.0</td>\n",
       "      <td>7241.0</td>\n",
       "      <td>2566.0</td>\n",
       "      <td>174.0</td>\n",
       "      <td>1.0</td>\n",
       "      <td>1172.0</td>\n",
       "      <td>3931.0</td>\n",
       "      <td>6074.0</td>\n",
       "      <td>...</td>\n",
       "      <td>95.0</td>\n",
       "      <td>33.0</td>\n",
       "      <td>280.0</td>\n",
       "      <td>3288.0</td>\n",
       "      <td>51.0</td>\n",
       "      <td>3353.0</td>\n",
       "      <td>29932.0</td>\n",
       "      <td>29735.0</td>\n",
       "      <td>68.40</td>\n",
       "      <td>76.16</td>\n",
       "    </tr>\n",
       "    <tr>\n",
       "      <th>35061</th>\n",
       "      <td>2018-12-31 21:00:00+01:00</td>\n",
       "      <td>292.0</td>\n",
       "      <td>0.0</td>\n",
       "      <td>7025.0</td>\n",
       "      <td>2422.0</td>\n",
       "      <td>168.0</td>\n",
       "      <td>50.0</td>\n",
       "      <td>1148.0</td>\n",
       "      <td>2831.0</td>\n",
       "      <td>6076.0</td>\n",
       "      <td>...</td>\n",
       "      <td>94.0</td>\n",
       "      <td>31.0</td>\n",
       "      <td>286.0</td>\n",
       "      <td>3503.0</td>\n",
       "      <td>36.0</td>\n",
       "      <td>3404.0</td>\n",
       "      <td>27903.0</td>\n",
       "      <td>28071.0</td>\n",
       "      <td>66.88</td>\n",
       "      <td>74.30</td>\n",
       "    </tr>\n",
       "    <tr>\n",
       "      <th>35062</th>\n",
       "      <td>2018-12-31 22:00:00+01:00</td>\n",
       "      <td>293.0</td>\n",
       "      <td>0.0</td>\n",
       "      <td>6562.0</td>\n",
       "      <td>2293.0</td>\n",
       "      <td>163.0</td>\n",
       "      <td>108.0</td>\n",
       "      <td>1128.0</td>\n",
       "      <td>2068.0</td>\n",
       "      <td>6075.0</td>\n",
       "      <td>...</td>\n",
       "      <td>93.0</td>\n",
       "      <td>31.0</td>\n",
       "      <td>287.0</td>\n",
       "      <td>3586.0</td>\n",
       "      <td>29.0</td>\n",
       "      <td>3273.0</td>\n",
       "      <td>25450.0</td>\n",
       "      <td>25801.0</td>\n",
       "      <td>63.93</td>\n",
       "      <td>69.89</td>\n",
       "    </tr>\n",
       "    <tr>\n",
       "      <th>35063</th>\n",
       "      <td>2018-12-31 23:00:00+01:00</td>\n",
       "      <td>290.0</td>\n",
       "      <td>0.0</td>\n",
       "      <td>6926.0</td>\n",
       "      <td>2166.0</td>\n",
       "      <td>163.0</td>\n",
       "      <td>108.0</td>\n",
       "      <td>1069.0</td>\n",
       "      <td>1686.0</td>\n",
       "      <td>6075.0</td>\n",
       "      <td>...</td>\n",
       "      <td>92.0</td>\n",
       "      <td>31.0</td>\n",
       "      <td>287.0</td>\n",
       "      <td>3651.0</td>\n",
       "      <td>26.0</td>\n",
       "      <td>3117.0</td>\n",
       "      <td>24424.0</td>\n",
       "      <td>24455.0</td>\n",
       "      <td>64.27</td>\n",
       "      <td>69.88</td>\n",
       "    </tr>\n",
       "  </tbody>\n",
       "</table>\n",
       "<p>35064 rows × 21 columns</p>\n",
       "</div>"
      ],
      "text/plain": [
       "                            time  generation biomass  \\\n",
       "0      2015-01-01 00:00:00+01:00               447.0   \n",
       "1      2015-01-01 01:00:00+01:00               449.0   \n",
       "2      2015-01-01 02:00:00+01:00               448.0   \n",
       "3      2015-01-01 03:00:00+01:00               438.0   \n",
       "4      2015-01-01 04:00:00+01:00               428.0   \n",
       "...                          ...                 ...   \n",
       "35059  2018-12-31 19:00:00+01:00               297.0   \n",
       "35060  2018-12-31 20:00:00+01:00               296.0   \n",
       "35061  2018-12-31 21:00:00+01:00               292.0   \n",
       "35062  2018-12-31 22:00:00+01:00               293.0   \n",
       "35063  2018-12-31 23:00:00+01:00               290.0   \n",
       "\n",
       "       generation fossil brown coal/lignite  generation fossil gas  \\\n",
       "0                                     329.0                 4844.0   \n",
       "1                                     328.0                 5196.0   \n",
       "2                                     323.0                 4857.0   \n",
       "3                                     254.0                 4314.0   \n",
       "4                                     187.0                 4130.0   \n",
       "...                                     ...                    ...   \n",
       "35059                                   0.0                 7634.0   \n",
       "35060                                   0.0                 7241.0   \n",
       "35061                                   0.0                 7025.0   \n",
       "35062                                   0.0                 6562.0   \n",
       "35063                                   0.0                 6926.0   \n",
       "\n",
       "       generation fossil hard coal  generation fossil oil  \\\n",
       "0                           4821.0                  162.0   \n",
       "1                           4755.0                  158.0   \n",
       "2                           4581.0                  157.0   \n",
       "3                           4131.0                  160.0   \n",
       "4                           3840.0                  156.0   \n",
       "...                            ...                    ...   \n",
       "35059                       2628.0                  178.0   \n",
       "35060                       2566.0                  174.0   \n",
       "35061                       2422.0                  168.0   \n",
       "35062                       2293.0                  163.0   \n",
       "35063                       2166.0                  163.0   \n",
       "\n",
       "       generation hydro pumped storage consumption  \\\n",
       "0                                            863.0   \n",
       "1                                            920.0   \n",
       "2                                           1164.0   \n",
       "3                                           1503.0   \n",
       "4                                           1826.0   \n",
       "...                                            ...   \n",
       "35059                                          1.0   \n",
       "35060                                          1.0   \n",
       "35061                                         50.0   \n",
       "35062                                        108.0   \n",
       "35063                                        108.0   \n",
       "\n",
       "       generation hydro run-of-river and poundage  \\\n",
       "0                                          1051.0   \n",
       "1                                          1009.0   \n",
       "2                                           973.0   \n",
       "3                                           949.0   \n",
       "4                                           953.0   \n",
       "...                                           ...   \n",
       "35059                                      1135.0   \n",
       "35060                                      1172.0   \n",
       "35061                                      1148.0   \n",
       "35062                                      1128.0   \n",
       "35063                                      1069.0   \n",
       "\n",
       "       generation hydro water reservoir  generation nuclear  ...  \\\n",
       "0                                1899.0              7096.0  ...   \n",
       "1                                1658.0              7096.0  ...   \n",
       "2                                1371.0              7099.0  ...   \n",
       "3                                 779.0              7098.0  ...   \n",
       "4                                 720.0              7097.0  ...   \n",
       "...                                 ...                 ...  ...   \n",
       "35059                            4836.0              6073.0  ...   \n",
       "35060                            3931.0              6074.0  ...   \n",
       "35061                            2831.0              6076.0  ...   \n",
       "35062                            2068.0              6075.0  ...   \n",
       "35063                            1686.0              6075.0  ...   \n",
       "\n",
       "       generation other renewable  generation solar  generation waste  \\\n",
       "0                            73.0              49.0             196.0   \n",
       "1                            71.0              50.0             195.0   \n",
       "2                            73.0              50.0             196.0   \n",
       "3                            75.0              50.0             191.0   \n",
       "4                            74.0              42.0             189.0   \n",
       "...                           ...               ...               ...   \n",
       "35059                        95.0              85.0             277.0   \n",
       "35060                        95.0              33.0             280.0   \n",
       "35061                        94.0              31.0             286.0   \n",
       "35062                        93.0              31.0             287.0   \n",
       "35063                        92.0              31.0             287.0   \n",
       "\n",
       "       generation wind onshore  forecast solar day ahead  \\\n",
       "0                       6378.0                      17.0   \n",
       "1                       5890.0                      16.0   \n",
       "2                       5461.0                       8.0   \n",
       "3                       5238.0                       2.0   \n",
       "4                       4935.0                       9.0   \n",
       "...                        ...                       ...   \n",
       "35059                   3113.0                      96.0   \n",
       "35060                   3288.0                      51.0   \n",
       "35061                   3503.0                      36.0   \n",
       "35062                   3586.0                      29.0   \n",
       "35063                   3651.0                      26.0   \n",
       "\n",
       "       forecast wind onshore day ahead  total load forecast  \\\n",
       "0                               6436.0              26118.0   \n",
       "1                               5856.0              24934.0   \n",
       "2                               5454.0              23515.0   \n",
       "3                               5151.0              22642.0   \n",
       "4                               4861.0              21785.0   \n",
       "...                                ...                  ...   \n",
       "35059                           3253.0              30619.0   \n",
       "35060                           3353.0              29932.0   \n",
       "35061                           3404.0              27903.0   \n",
       "35062                           3273.0              25450.0   \n",
       "35063                           3117.0              24424.0   \n",
       "\n",
       "       total load actual  price day ahead  price actual  \n",
       "0                25385.0            50.10         65.41  \n",
       "1                24382.0            48.10         64.92  \n",
       "2                22734.0            47.33         64.48  \n",
       "3                21286.0            42.27         59.32  \n",
       "4                20264.0            38.41         56.04  \n",
       "...                  ...              ...           ...  \n",
       "35059            30653.0            68.85         77.02  \n",
       "35060            29735.0            68.40         76.16  \n",
       "35061            28071.0            66.88         74.30  \n",
       "35062            25801.0            63.93         69.89  \n",
       "35063            24455.0            64.27         69.88  \n",
       "\n",
       "[35064 rows x 21 columns]"
      ]
     },
     "execution_count": 32,
     "metadata": {},
     "output_type": "execute_result"
    }
   ],
   "source": [
    "energy_data.drop(columns = ['generation fossil coal-derived gas','generation fossil oil shale','generation fossil peat','generation geothermal','generation hydro pumped storage aggregated','generation marine','generation wind offshore','forecast wind offshore eday ahead'])"
   ]
  },
  {
   "cell_type": "code",
   "execution_count": 8,
   "id": "89ec26bd",
   "metadata": {},
   "outputs": [
    {
     "data": {
      "text/plain": [
       "<bound method DataFrame.info of                            dt_iso city_name     temp  temp_min  temp_max  \\\n",
       "0       2015-01-01 00:00:00+01:00  Valencia  270.475   270.475   270.475   \n",
       "1       2015-01-01 01:00:00+01:00  Valencia  270.475   270.475   270.475   \n",
       "2       2015-01-01 02:00:00+01:00  Valencia  269.686   269.686   269.686   \n",
       "3       2015-01-01 03:00:00+01:00  Valencia  269.686   269.686   269.686   \n",
       "4       2015-01-01 04:00:00+01:00  Valencia  269.686   269.686   269.686   \n",
       "...                           ...       ...      ...       ...       ...   \n",
       "178391  2018-12-31 19:00:00+01:00   Seville  287.760   287.150   288.150   \n",
       "178392  2018-12-31 20:00:00+01:00   Seville  285.760   285.150   286.150   \n",
       "178393  2018-12-31 21:00:00+01:00   Seville  285.150   285.150   285.150   \n",
       "178394  2018-12-31 22:00:00+01:00   Seville  284.150   284.150   284.150   \n",
       "178395  2018-12-31 23:00:00+01:00   Seville  283.970   282.150   285.150   \n",
       "\n",
       "        pressure  humidity  wind_speed  wind_deg  rain_1h  rain_3h  snow_3h  \\\n",
       "0           1001        77           1        62      0.0      0.0      0.0   \n",
       "1           1001        77           1        62      0.0      0.0      0.0   \n",
       "2           1002        78           0        23      0.0      0.0      0.0   \n",
       "3           1002        78           0        23      0.0      0.0      0.0   \n",
       "4           1002        78           0        23      0.0      0.0      0.0   \n",
       "...          ...       ...         ...       ...      ...      ...      ...   \n",
       "178391      1028        54           3        30      0.0      0.0      0.0   \n",
       "178392      1029        62           3        30      0.0      0.0      0.0   \n",
       "178393      1028        58           4        50      0.0      0.0      0.0   \n",
       "178394      1029        57           4        60      0.0      0.0      0.0   \n",
       "178395      1029        70           3        50      0.0      0.0      0.0   \n",
       "\n",
       "        clouds_all  weather_id weather_main weather_description weather_icon  \n",
       "0                0         800        clear        sky is clear          01n  \n",
       "1                0         800        clear        sky is clear          01n  \n",
       "2                0         800        clear        sky is clear          01n  \n",
       "3                0         800        clear        sky is clear          01n  \n",
       "4                0         800        clear        sky is clear          01n  \n",
       "...            ...         ...          ...                 ...          ...  \n",
       "178391           0         800        clear        sky is clear          01n  \n",
       "178392           0         800        clear        sky is clear          01n  \n",
       "178393           0         800        clear        sky is clear          01n  \n",
       "178394           0         800        clear        sky is clear          01n  \n",
       "178395           0         800        clear        sky is clear          01n  \n",
       "\n",
       "[178396 rows x 17 columns]>"
      ]
     },
     "execution_count": 8,
     "metadata": {},
     "output_type": "execute_result"
    }
   ],
   "source": [
    "weather_data.info\n",
    "#we can see that the times seem to match up, so if we will want to merge the two DF it will be on 'time' = 'dt_iso',\n",
    "#however, there is only one instance of each time in the energy data and one for each city in the weather data\n",
    "#It also appears that there is indeed one observation for each hour over four years. \n",
    "#365*3*24 + 366*24 = 35064 (for one leap year). Somehow the weather data has more entries than that. \n",
    "# 5 cities * 35064 = 175320, but there are 178395 rows. We will have to invesigate where the ~3000 extra rows come from"
   ]
  },
  {
   "cell_type": "code",
   "execution_count": 13,
   "id": "9d120d7d",
   "metadata": {
    "collapsed": true
   },
   "outputs": [
    {
     "data": {
      "text/plain": [
       "dt_iso                 35145\n",
       "city_name              35145\n",
       "temp                   35145\n",
       "temp_min               35145\n",
       "temp_max               35145\n",
       "pressure               35145\n",
       "humidity               35145\n",
       "wind_speed             35145\n",
       "wind_deg               35145\n",
       "rain_1h                35145\n",
       "rain_3h                35145\n",
       "snow_3h                35145\n",
       "clouds_all             35145\n",
       "weather_id             35145\n",
       "weather_main           35145\n",
       "weather_description    35145\n",
       "weather_icon           35145\n",
       "dtype: int64"
      ]
     },
     "execution_count": 13,
     "metadata": {},
     "output_type": "execute_result"
    }
   ],
   "source": [
    "weather_data[weather_data.city_name == 'Valencia'].count()"
   ]
  },
  {
   "cell_type": "code",
   "execution_count": 14,
   "id": "96deb23a",
   "metadata": {
    "collapsed": true
   },
   "outputs": [
    {
     "data": {
      "text/plain": [
       "dt_iso                 36267\n",
       "city_name              36267\n",
       "temp                   36267\n",
       "temp_min               36267\n",
       "temp_max               36267\n",
       "pressure               36267\n",
       "humidity               36267\n",
       "wind_speed             36267\n",
       "wind_deg               36267\n",
       "rain_1h                36267\n",
       "rain_3h                36267\n",
       "snow_3h                36267\n",
       "clouds_all             36267\n",
       "weather_id             36267\n",
       "weather_main           36267\n",
       "weather_description    36267\n",
       "weather_icon           36267\n",
       "dtype: int64"
      ]
     },
     "execution_count": 14,
     "metadata": {},
     "output_type": "execute_result"
    }
   ],
   "source": [
    "weather_data[weather_data.city_name == 'Madrid'].count()"
   ]
  },
  {
   "cell_type": "code",
   "execution_count": 15,
   "id": "b26293df",
   "metadata": {
    "collapsed": true
   },
   "outputs": [
    {
     "data": {
      "text/plain": [
       "dt_iso                 35951\n",
       "city_name              35951\n",
       "temp                   35951\n",
       "temp_min               35951\n",
       "temp_max               35951\n",
       "pressure               35951\n",
       "humidity               35951\n",
       "wind_speed             35951\n",
       "wind_deg               35951\n",
       "rain_1h                35951\n",
       "rain_3h                35951\n",
       "snow_3h                35951\n",
       "clouds_all             35951\n",
       "weather_id             35951\n",
       "weather_main           35951\n",
       "weather_description    35951\n",
       "weather_icon           35951\n",
       "dtype: int64"
      ]
     },
     "execution_count": 15,
     "metadata": {},
     "output_type": "execute_result"
    }
   ],
   "source": [
    "weather_data[weather_data.city_name == 'Bilbao'].count()"
   ]
  },
  {
   "cell_type": "code",
   "execution_count": 17,
   "id": "1a37d30c",
   "metadata": {
    "collapsed": true
   },
   "outputs": [
    {
     "data": {
      "text/plain": [
       "dt_iso                 35476\n",
       "city_name              35476\n",
       "temp                   35476\n",
       "temp_min               35476\n",
       "temp_max               35476\n",
       "pressure               35476\n",
       "humidity               35476\n",
       "wind_speed             35476\n",
       "wind_deg               35476\n",
       "rain_1h                35476\n",
       "rain_3h                35476\n",
       "snow_3h                35476\n",
       "clouds_all             35476\n",
       "weather_id             35476\n",
       "weather_main           35476\n",
       "weather_description    35476\n",
       "weather_icon           35476\n",
       "dtype: int64"
      ]
     },
     "execution_count": 17,
     "metadata": {},
     "output_type": "execute_result"
    }
   ],
   "source": [
    "weather_data[weather_data.city_name == ' Barcelona'].count() #noticed that Barecelona has a space in front"
   ]
  },
  {
   "cell_type": "code",
   "execution_count": 18,
   "id": "44158836",
   "metadata": {
    "collapsed": true
   },
   "outputs": [
    {
     "data": {
      "text/plain": [
       "dt_iso                 35145\n",
       "city_name              35145\n",
       "temp                   35145\n",
       "temp_min               35145\n",
       "temp_max               35145\n",
       "pressure               35145\n",
       "humidity               35145\n",
       "wind_speed             35145\n",
       "wind_deg               35145\n",
       "rain_1h                35145\n",
       "rain_3h                35145\n",
       "snow_3h                35145\n",
       "clouds_all             35145\n",
       "weather_id             35145\n",
       "weather_main           35145\n",
       "weather_description    35145\n",
       "weather_icon           35145\n",
       "dtype: int64"
      ]
     },
     "execution_count": 18,
     "metadata": {},
     "output_type": "execute_result"
    }
   ],
   "source": [
    "weather_data[weather_data.city_name == 'Valencia'].count()"
   ]
  },
  {
   "cell_type": "code",
   "execution_count": 19,
   "id": "0abba0a9",
   "metadata": {},
   "outputs": [
    {
     "data": {
      "text/plain": [
       "2015-10-01 02:00:00+02:00    10\n",
       "2017-09-30 02:00:00+02:00    10\n",
       "2016-09-30 02:00:00+02:00    10\n",
       "2018-09-30 02:00:00+02:00    10\n",
       "2018-02-28 09:00:00+01:00    10\n",
       "                             ..\n",
       "2016-05-06 17:00:00+02:00     5\n",
       "2016-05-06 15:00:00+02:00     5\n",
       "2016-05-06 14:00:00+02:00     5\n",
       "2016-05-06 13:00:00+02:00     5\n",
       "2018-12-31 23:00:00+01:00     5\n",
       "Name: dt_iso, Length: 35064, dtype: int64"
      ]
     },
     "execution_count": 19,
     "metadata": {},
     "output_type": "execute_result"
    }
   ],
   "source": [
    "weather_data['dt_iso'].value_counts() \n",
    "'''so there are many actual duplicates (not just the 5x duplicates\n",
    "indicated by having 5 cities). We will eventually need to transform the weather data to be wide \n",
    "(have only one time observation per hour and make the city data be columns)'''"
   ]
  }
 ],
 "metadata": {
  "kernelspec": {
   "display_name": "Python 3 (ipykernel)",
   "language": "python",
   "name": "python3"
  },
  "language_info": {
   "codemirror_mode": {
    "name": "ipython",
    "version": 3
   },
   "file_extension": ".py",
   "mimetype": "text/x-python",
   "name": "python",
   "nbconvert_exporter": "python",
   "pygments_lexer": "ipython3",
   "version": "3.9.7"
  }
 },
 "nbformat": 4,
 "nbformat_minor": 5
}
